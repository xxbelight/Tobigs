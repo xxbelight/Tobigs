{
 "cells": [
  {
   "cell_type": "markdown",
   "metadata": {},
   "source": [
    "# 차원축소 Assignment2"
   ]
  },
  {
   "cell_type": "markdown",
   "metadata": {},
   "source": [
    "## MNIST data에 적용을 해보기\n",
    "\n",
    "mnist-original.mat 파일과 같은 위치에서 주피터 노트북을 열어주세요"
   ]
  },
  {
   "cell_type": "code",
   "execution_count": 1,
   "metadata": {},
   "outputs": [],
   "source": [
    "import numpy as np\n",
    "import matplotlib.pyplot as plt\n",
    "import math\n",
    "import pandas as pd\n",
    "import csv\n",
    "from numpy import linalg as LA\n",
    "from sklearn.manifold import TSNE\n",
    "import seaborn as sns"
   ]
  },
  {
   "cell_type": "code",
   "execution_count": 2,
   "metadata": {},
   "outputs": [],
   "source": [
    "import numpy as np\n",
    "import numpy.linalg as lin\n",
    "import matplotlib.pyplot as plt\n",
    "import pandas as pd\n",
    "from sklearn.datasets import fetch_openml\n",
    "from scipy import io\n",
    "%matplotlib inline\n",
    "from mpl_toolkits.mplot3d import Axes3D"
   ]
  },
  {
   "cell_type": "code",
   "execution_count": 3,
   "metadata": {},
   "outputs": [],
   "source": [
    "mnist = io.loadmat('mnist-original.mat') #mnist 손글씨 데이터를 불러옵니다\n",
    "X = mnist['data'].T\n",
    "y = mnist['label'].T"
   ]
  },
  {
   "cell_type": "markdown",
   "metadata": {},
   "source": [
    "# 데이터 정보!\n",
    "- 7만개의 작은 숫자 이미지\n",
    "- 행 열이 반대로 되어있음 -> 전치\n",
    "- grayscale 28x28 pixel = 784 feature\n",
    "- 각 picel은 0~255의 값\n",
    "- label = 1~10 label이 총 10개인거에 주목하자"
   ]
  },
  {
   "cell_type": "code",
   "execution_count": 4,
   "metadata": {},
   "outputs": [
    {
     "name": "stdout",
     "output_type": "stream",
     "text": [
      "(70000, 784) (70000, 1)\n"
     ]
    }
   ],
   "source": [
    "print(X.shape, y.shape)"
   ]
  },
  {
   "cell_type": "code",
   "execution_count": 5,
   "metadata": {},
   "outputs": [
    {
     "data": {
      "text/html": [
       "<div>\n",
       "<style scoped>\n",
       "    .dataframe tbody tr th:only-of-type {\n",
       "        vertical-align: middle;\n",
       "    }\n",
       "\n",
       "    .dataframe tbody tr th {\n",
       "        vertical-align: top;\n",
       "    }\n",
       "\n",
       "    .dataframe thead th {\n",
       "        text-align: right;\n",
       "    }\n",
       "</style>\n",
       "<table border=\"1\" class=\"dataframe\">\n",
       "  <thead>\n",
       "    <tr style=\"text-align: right;\">\n",
       "      <th></th>\n",
       "      <th>pixel0</th>\n",
       "      <th>pixel1</th>\n",
       "      <th>pixel2</th>\n",
       "      <th>pixel3</th>\n",
       "      <th>pixel4</th>\n",
       "      <th>pixel5</th>\n",
       "      <th>pixel6</th>\n",
       "      <th>pixel7</th>\n",
       "      <th>pixel8</th>\n",
       "      <th>pixel9</th>\n",
       "      <th>...</th>\n",
       "      <th>pixel774</th>\n",
       "      <th>pixel775</th>\n",
       "      <th>pixel776</th>\n",
       "      <th>pixel777</th>\n",
       "      <th>pixel778</th>\n",
       "      <th>pixel779</th>\n",
       "      <th>pixel780</th>\n",
       "      <th>pixel781</th>\n",
       "      <th>pixel782</th>\n",
       "      <th>pixel783</th>\n",
       "    </tr>\n",
       "  </thead>\n",
       "  <tbody>\n",
       "    <tr>\n",
       "      <th>0</th>\n",
       "      <td>0</td>\n",
       "      <td>0</td>\n",
       "      <td>0</td>\n",
       "      <td>0</td>\n",
       "      <td>0</td>\n",
       "      <td>0</td>\n",
       "      <td>0</td>\n",
       "      <td>0</td>\n",
       "      <td>0</td>\n",
       "      <td>0</td>\n",
       "      <td>...</td>\n",
       "      <td>0</td>\n",
       "      <td>0</td>\n",
       "      <td>0</td>\n",
       "      <td>0</td>\n",
       "      <td>0</td>\n",
       "      <td>0</td>\n",
       "      <td>0</td>\n",
       "      <td>0</td>\n",
       "      <td>0</td>\n",
       "      <td>0</td>\n",
       "    </tr>\n",
       "    <tr>\n",
       "      <th>1</th>\n",
       "      <td>0</td>\n",
       "      <td>0</td>\n",
       "      <td>0</td>\n",
       "      <td>0</td>\n",
       "      <td>0</td>\n",
       "      <td>0</td>\n",
       "      <td>0</td>\n",
       "      <td>0</td>\n",
       "      <td>0</td>\n",
       "      <td>0</td>\n",
       "      <td>...</td>\n",
       "      <td>0</td>\n",
       "      <td>0</td>\n",
       "      <td>0</td>\n",
       "      <td>0</td>\n",
       "      <td>0</td>\n",
       "      <td>0</td>\n",
       "      <td>0</td>\n",
       "      <td>0</td>\n",
       "      <td>0</td>\n",
       "      <td>0</td>\n",
       "    </tr>\n",
       "    <tr>\n",
       "      <th>2</th>\n",
       "      <td>0</td>\n",
       "      <td>0</td>\n",
       "      <td>0</td>\n",
       "      <td>0</td>\n",
       "      <td>0</td>\n",
       "      <td>0</td>\n",
       "      <td>0</td>\n",
       "      <td>0</td>\n",
       "      <td>0</td>\n",
       "      <td>0</td>\n",
       "      <td>...</td>\n",
       "      <td>0</td>\n",
       "      <td>0</td>\n",
       "      <td>0</td>\n",
       "      <td>0</td>\n",
       "      <td>0</td>\n",
       "      <td>0</td>\n",
       "      <td>0</td>\n",
       "      <td>0</td>\n",
       "      <td>0</td>\n",
       "      <td>0</td>\n",
       "    </tr>\n",
       "    <tr>\n",
       "      <th>3</th>\n",
       "      <td>0</td>\n",
       "      <td>0</td>\n",
       "      <td>0</td>\n",
       "      <td>0</td>\n",
       "      <td>0</td>\n",
       "      <td>0</td>\n",
       "      <td>0</td>\n",
       "      <td>0</td>\n",
       "      <td>0</td>\n",
       "      <td>0</td>\n",
       "      <td>...</td>\n",
       "      <td>0</td>\n",
       "      <td>0</td>\n",
       "      <td>0</td>\n",
       "      <td>0</td>\n",
       "      <td>0</td>\n",
       "      <td>0</td>\n",
       "      <td>0</td>\n",
       "      <td>0</td>\n",
       "      <td>0</td>\n",
       "      <td>0</td>\n",
       "    </tr>\n",
       "    <tr>\n",
       "      <th>4</th>\n",
       "      <td>0</td>\n",
       "      <td>0</td>\n",
       "      <td>0</td>\n",
       "      <td>0</td>\n",
       "      <td>0</td>\n",
       "      <td>0</td>\n",
       "      <td>0</td>\n",
       "      <td>0</td>\n",
       "      <td>0</td>\n",
       "      <td>0</td>\n",
       "      <td>...</td>\n",
       "      <td>0</td>\n",
       "      <td>0</td>\n",
       "      <td>0</td>\n",
       "      <td>0</td>\n",
       "      <td>0</td>\n",
       "      <td>0</td>\n",
       "      <td>0</td>\n",
       "      <td>0</td>\n",
       "      <td>0</td>\n",
       "      <td>0</td>\n",
       "    </tr>\n",
       "  </tbody>\n",
       "</table>\n",
       "<p>5 rows × 784 columns</p>\n",
       "</div>"
      ],
      "text/plain": [
       "   pixel0  pixel1  pixel2  pixel3  pixel4  pixel5  pixel6  pixel7  pixel8  \\\n",
       "0       0       0       0       0       0       0       0       0       0   \n",
       "1       0       0       0       0       0       0       0       0       0   \n",
       "2       0       0       0       0       0       0       0       0       0   \n",
       "3       0       0       0       0       0       0       0       0       0   \n",
       "4       0       0       0       0       0       0       0       0       0   \n",
       "\n",
       "   pixel9  ...  pixel774  pixel775  pixel776  pixel777  pixel778  pixel779  \\\n",
       "0       0  ...         0         0         0         0         0         0   \n",
       "1       0  ...         0         0         0         0         0         0   \n",
       "2       0  ...         0         0         0         0         0         0   \n",
       "3       0  ...         0         0         0         0         0         0   \n",
       "4       0  ...         0         0         0         0         0         0   \n",
       "\n",
       "   pixel780  pixel781  pixel782  pixel783  \n",
       "0         0         0         0         0  \n",
       "1         0         0         0         0  \n",
       "2         0         0         0         0  \n",
       "3         0         0         0         0  \n",
       "4         0         0         0         0  \n",
       "\n",
       "[5 rows x 784 columns]"
      ]
     },
     "execution_count": 5,
     "metadata": {},
     "output_type": "execute_result"
    }
   ],
   "source": [
    "# data를 각 픽셀에 이름붙여 표현\n",
    "feat_cols = [ 'pixel'+str(i) for i in range(X.shape[1]) ]\n",
    "df = pd.DataFrame(X,columns=feat_cols)\n",
    "df.head()"
   ]
  },
  {
   "cell_type": "code",
   "execution_count": 6,
   "metadata": {},
   "outputs": [
    {
     "name": "stdout",
     "output_type": "stream",
     "text": [
      "Size of the dataframe: (70000, 785)\n"
     ]
    }
   ],
   "source": [
    "# df에 라벨 y를 붙여서 데이터프레임 생성\n",
    "df['y'] = y\n",
    "print('Size of the dataframe: {}'.format(df.shape))"
   ]
  },
  {
   "cell_type": "code",
   "execution_count": 7,
   "metadata": {},
   "outputs": [
    {
     "data": {
      "text/html": [
       "<div>\n",
       "<style scoped>\n",
       "    .dataframe tbody tr th:only-of-type {\n",
       "        vertical-align: middle;\n",
       "    }\n",
       "\n",
       "    .dataframe tbody tr th {\n",
       "        vertical-align: top;\n",
       "    }\n",
       "\n",
       "    .dataframe thead th {\n",
       "        text-align: right;\n",
       "    }\n",
       "</style>\n",
       "<table border=\"1\" class=\"dataframe\">\n",
       "  <thead>\n",
       "    <tr style=\"text-align: right;\">\n",
       "      <th></th>\n",
       "      <th>pixel0</th>\n",
       "      <th>pixel1</th>\n",
       "      <th>pixel2</th>\n",
       "      <th>pixel3</th>\n",
       "      <th>pixel4</th>\n",
       "      <th>pixel5</th>\n",
       "      <th>pixel6</th>\n",
       "      <th>pixel7</th>\n",
       "      <th>pixel8</th>\n",
       "      <th>pixel9</th>\n",
       "      <th>...</th>\n",
       "      <th>pixel775</th>\n",
       "      <th>pixel776</th>\n",
       "      <th>pixel777</th>\n",
       "      <th>pixel778</th>\n",
       "      <th>pixel779</th>\n",
       "      <th>pixel780</th>\n",
       "      <th>pixel781</th>\n",
       "      <th>pixel782</th>\n",
       "      <th>pixel783</th>\n",
       "      <th>y</th>\n",
       "    </tr>\n",
       "  </thead>\n",
       "  <tbody>\n",
       "    <tr>\n",
       "      <th>0</th>\n",
       "      <td>0</td>\n",
       "      <td>0</td>\n",
       "      <td>0</td>\n",
       "      <td>0</td>\n",
       "      <td>0</td>\n",
       "      <td>0</td>\n",
       "      <td>0</td>\n",
       "      <td>0</td>\n",
       "      <td>0</td>\n",
       "      <td>0</td>\n",
       "      <td>...</td>\n",
       "      <td>0</td>\n",
       "      <td>0</td>\n",
       "      <td>0</td>\n",
       "      <td>0</td>\n",
       "      <td>0</td>\n",
       "      <td>0</td>\n",
       "      <td>0</td>\n",
       "      <td>0</td>\n",
       "      <td>0</td>\n",
       "      <td>0.0</td>\n",
       "    </tr>\n",
       "    <tr>\n",
       "      <th>1</th>\n",
       "      <td>0</td>\n",
       "      <td>0</td>\n",
       "      <td>0</td>\n",
       "      <td>0</td>\n",
       "      <td>0</td>\n",
       "      <td>0</td>\n",
       "      <td>0</td>\n",
       "      <td>0</td>\n",
       "      <td>0</td>\n",
       "      <td>0</td>\n",
       "      <td>...</td>\n",
       "      <td>0</td>\n",
       "      <td>0</td>\n",
       "      <td>0</td>\n",
       "      <td>0</td>\n",
       "      <td>0</td>\n",
       "      <td>0</td>\n",
       "      <td>0</td>\n",
       "      <td>0</td>\n",
       "      <td>0</td>\n",
       "      <td>0.0</td>\n",
       "    </tr>\n",
       "    <tr>\n",
       "      <th>2</th>\n",
       "      <td>0</td>\n",
       "      <td>0</td>\n",
       "      <td>0</td>\n",
       "      <td>0</td>\n",
       "      <td>0</td>\n",
       "      <td>0</td>\n",
       "      <td>0</td>\n",
       "      <td>0</td>\n",
       "      <td>0</td>\n",
       "      <td>0</td>\n",
       "      <td>...</td>\n",
       "      <td>0</td>\n",
       "      <td>0</td>\n",
       "      <td>0</td>\n",
       "      <td>0</td>\n",
       "      <td>0</td>\n",
       "      <td>0</td>\n",
       "      <td>0</td>\n",
       "      <td>0</td>\n",
       "      <td>0</td>\n",
       "      <td>0.0</td>\n",
       "    </tr>\n",
       "    <tr>\n",
       "      <th>3</th>\n",
       "      <td>0</td>\n",
       "      <td>0</td>\n",
       "      <td>0</td>\n",
       "      <td>0</td>\n",
       "      <td>0</td>\n",
       "      <td>0</td>\n",
       "      <td>0</td>\n",
       "      <td>0</td>\n",
       "      <td>0</td>\n",
       "      <td>0</td>\n",
       "      <td>...</td>\n",
       "      <td>0</td>\n",
       "      <td>0</td>\n",
       "      <td>0</td>\n",
       "      <td>0</td>\n",
       "      <td>0</td>\n",
       "      <td>0</td>\n",
       "      <td>0</td>\n",
       "      <td>0</td>\n",
       "      <td>0</td>\n",
       "      <td>0.0</td>\n",
       "    </tr>\n",
       "    <tr>\n",
       "      <th>4</th>\n",
       "      <td>0</td>\n",
       "      <td>0</td>\n",
       "      <td>0</td>\n",
       "      <td>0</td>\n",
       "      <td>0</td>\n",
       "      <td>0</td>\n",
       "      <td>0</td>\n",
       "      <td>0</td>\n",
       "      <td>0</td>\n",
       "      <td>0</td>\n",
       "      <td>...</td>\n",
       "      <td>0</td>\n",
       "      <td>0</td>\n",
       "      <td>0</td>\n",
       "      <td>0</td>\n",
       "      <td>0</td>\n",
       "      <td>0</td>\n",
       "      <td>0</td>\n",
       "      <td>0</td>\n",
       "      <td>0</td>\n",
       "      <td>0.0</td>\n",
       "    </tr>\n",
       "    <tr>\n",
       "      <th>...</th>\n",
       "      <td>...</td>\n",
       "      <td>...</td>\n",
       "      <td>...</td>\n",
       "      <td>...</td>\n",
       "      <td>...</td>\n",
       "      <td>...</td>\n",
       "      <td>...</td>\n",
       "      <td>...</td>\n",
       "      <td>...</td>\n",
       "      <td>...</td>\n",
       "      <td>...</td>\n",
       "      <td>...</td>\n",
       "      <td>...</td>\n",
       "      <td>...</td>\n",
       "      <td>...</td>\n",
       "      <td>...</td>\n",
       "      <td>...</td>\n",
       "      <td>...</td>\n",
       "      <td>...</td>\n",
       "      <td>...</td>\n",
       "      <td>...</td>\n",
       "    </tr>\n",
       "    <tr>\n",
       "      <th>69995</th>\n",
       "      <td>0</td>\n",
       "      <td>0</td>\n",
       "      <td>0</td>\n",
       "      <td>0</td>\n",
       "      <td>0</td>\n",
       "      <td>0</td>\n",
       "      <td>0</td>\n",
       "      <td>0</td>\n",
       "      <td>0</td>\n",
       "      <td>0</td>\n",
       "      <td>...</td>\n",
       "      <td>0</td>\n",
       "      <td>0</td>\n",
       "      <td>0</td>\n",
       "      <td>0</td>\n",
       "      <td>0</td>\n",
       "      <td>0</td>\n",
       "      <td>0</td>\n",
       "      <td>0</td>\n",
       "      <td>0</td>\n",
       "      <td>9.0</td>\n",
       "    </tr>\n",
       "    <tr>\n",
       "      <th>69996</th>\n",
       "      <td>0</td>\n",
       "      <td>0</td>\n",
       "      <td>0</td>\n",
       "      <td>0</td>\n",
       "      <td>0</td>\n",
       "      <td>0</td>\n",
       "      <td>0</td>\n",
       "      <td>0</td>\n",
       "      <td>0</td>\n",
       "      <td>0</td>\n",
       "      <td>...</td>\n",
       "      <td>0</td>\n",
       "      <td>0</td>\n",
       "      <td>0</td>\n",
       "      <td>0</td>\n",
       "      <td>0</td>\n",
       "      <td>0</td>\n",
       "      <td>0</td>\n",
       "      <td>0</td>\n",
       "      <td>0</td>\n",
       "      <td>9.0</td>\n",
       "    </tr>\n",
       "    <tr>\n",
       "      <th>69997</th>\n",
       "      <td>0</td>\n",
       "      <td>0</td>\n",
       "      <td>0</td>\n",
       "      <td>0</td>\n",
       "      <td>0</td>\n",
       "      <td>0</td>\n",
       "      <td>0</td>\n",
       "      <td>0</td>\n",
       "      <td>0</td>\n",
       "      <td>0</td>\n",
       "      <td>...</td>\n",
       "      <td>0</td>\n",
       "      <td>0</td>\n",
       "      <td>0</td>\n",
       "      <td>0</td>\n",
       "      <td>0</td>\n",
       "      <td>0</td>\n",
       "      <td>0</td>\n",
       "      <td>0</td>\n",
       "      <td>0</td>\n",
       "      <td>9.0</td>\n",
       "    </tr>\n",
       "    <tr>\n",
       "      <th>69998</th>\n",
       "      <td>0</td>\n",
       "      <td>0</td>\n",
       "      <td>0</td>\n",
       "      <td>0</td>\n",
       "      <td>0</td>\n",
       "      <td>0</td>\n",
       "      <td>0</td>\n",
       "      <td>0</td>\n",
       "      <td>0</td>\n",
       "      <td>0</td>\n",
       "      <td>...</td>\n",
       "      <td>0</td>\n",
       "      <td>0</td>\n",
       "      <td>0</td>\n",
       "      <td>0</td>\n",
       "      <td>0</td>\n",
       "      <td>0</td>\n",
       "      <td>0</td>\n",
       "      <td>0</td>\n",
       "      <td>0</td>\n",
       "      <td>9.0</td>\n",
       "    </tr>\n",
       "    <tr>\n",
       "      <th>69999</th>\n",
       "      <td>0</td>\n",
       "      <td>0</td>\n",
       "      <td>0</td>\n",
       "      <td>0</td>\n",
       "      <td>0</td>\n",
       "      <td>0</td>\n",
       "      <td>0</td>\n",
       "      <td>0</td>\n",
       "      <td>0</td>\n",
       "      <td>0</td>\n",
       "      <td>...</td>\n",
       "      <td>0</td>\n",
       "      <td>0</td>\n",
       "      <td>0</td>\n",
       "      <td>0</td>\n",
       "      <td>0</td>\n",
       "      <td>0</td>\n",
       "      <td>0</td>\n",
       "      <td>0</td>\n",
       "      <td>0</td>\n",
       "      <td>9.0</td>\n",
       "    </tr>\n",
       "  </tbody>\n",
       "</table>\n",
       "<p>70000 rows × 785 columns</p>\n",
       "</div>"
      ],
      "text/plain": [
       "       pixel0  pixel1  pixel2  pixel3  pixel4  pixel5  pixel6  pixel7  pixel8  \\\n",
       "0           0       0       0       0       0       0       0       0       0   \n",
       "1           0       0       0       0       0       0       0       0       0   \n",
       "2           0       0       0       0       0       0       0       0       0   \n",
       "3           0       0       0       0       0       0       0       0       0   \n",
       "4           0       0       0       0       0       0       0       0       0   \n",
       "...       ...     ...     ...     ...     ...     ...     ...     ...     ...   \n",
       "69995       0       0       0       0       0       0       0       0       0   \n",
       "69996       0       0       0       0       0       0       0       0       0   \n",
       "69997       0       0       0       0       0       0       0       0       0   \n",
       "69998       0       0       0       0       0       0       0       0       0   \n",
       "69999       0       0       0       0       0       0       0       0       0   \n",
       "\n",
       "       pixel9  ...  pixel775  pixel776  pixel777  pixel778  pixel779  \\\n",
       "0           0  ...         0         0         0         0         0   \n",
       "1           0  ...         0         0         0         0         0   \n",
       "2           0  ...         0         0         0         0         0   \n",
       "3           0  ...         0         0         0         0         0   \n",
       "4           0  ...         0         0         0         0         0   \n",
       "...       ...  ...       ...       ...       ...       ...       ...   \n",
       "69995       0  ...         0         0         0         0         0   \n",
       "69996       0  ...         0         0         0         0         0   \n",
       "69997       0  ...         0         0         0         0         0   \n",
       "69998       0  ...         0         0         0         0         0   \n",
       "69999       0  ...         0         0         0         0         0   \n",
       "\n",
       "       pixel780  pixel781  pixel782  pixel783    y  \n",
       "0             0         0         0         0  0.0  \n",
       "1             0         0         0         0  0.0  \n",
       "2             0         0         0         0  0.0  \n",
       "3             0         0         0         0  0.0  \n",
       "4             0         0         0         0  0.0  \n",
       "...         ...       ...       ...       ...  ...  \n",
       "69995         0         0         0         0  9.0  \n",
       "69996         0         0         0         0  9.0  \n",
       "69997         0         0         0         0  9.0  \n",
       "69998         0         0         0         0  9.0  \n",
       "69999         0         0         0         0  9.0  \n",
       "\n",
       "[70000 rows x 785 columns]"
      ]
     },
     "execution_count": 7,
     "metadata": {},
     "output_type": "execute_result"
    }
   ],
   "source": [
    "df"
   ]
  },
  {
   "cell_type": "code",
   "execution_count": 8,
   "metadata": {},
   "outputs": [
    {
     "data": {
      "text/plain": [
       "<Figure size 432x288 with 0 Axes>"
      ]
     },
     "metadata": {},
     "output_type": "display_data"
    },
    {
     "data": {
      "image/png": "[encoded data removed]",
      "text/plain": [
       "<Figure size 1152x504 with 15 Axes>"
      ]
     },
     "metadata": {
      "needs_background": "light"
     },
     "output_type": "display_data"
    }
   ],
   "source": [
    "# 데이터 형태 시각화\n",
    "\n",
    "import matplotlib.pyplot as plt\n",
    "\n",
    "rndperm = np.random.permutation(df.shape[0])\n",
    "\n",
    "# Plot the graph\n",
    "plt.gray()\n",
    "fig = plt.figure( figsize=(16,7) )\n",
    "for i in range(0,15):\n",
    "    ax = fig.add_subplot(3,5,i+1, title=\"Digit: {}\".format(str(df.loc[rndperm[i],'y'])) )\n",
    "    ax.matshow(df.loc[rndperm[i],feat_cols].values.reshape((28,28)).astype(float))\n",
    "plt.show()"
   ]
  },
  {
   "cell_type": "markdown",
   "metadata": {},
   "source": [
    "### 1) train_test_split을 통해 데이터를 0.8 0.2의 비율로 분할 해 주세요"
   ]
  },
  {
   "cell_type": "code",
   "execution_count": 9,
   "metadata": {},
   "outputs": [],
   "source": [
    "from sklearn.model_selection import train_test_split\n",
    "X_train, X_test, y_train, y_test = train_test_split(df.drop('y', axis=1), df['y'], stratify=df['y'])"
   ]
  },
  {
   "cell_type": "code",
   "execution_count": 10,
   "metadata": {},
   "outputs": [],
   "source": [
    "from sklearn.preprocessing import StandardScaler\n",
    "standard_scaler = StandardScaler()\n",
    "standard_scaler.fit(X_train)\n",
    "X_scaled_train = standard_scaler.transform(X_train)\n",
    "X_scaled_test  = standard_scaler.transform(X_test)"
   ]
  },
  {
   "cell_type": "markdown",
   "metadata": {},
   "source": [
    "### 여기서부터는 원본데이터 & PCA 축소 데이터 & LDA 축소 데이터 비교해주세요"
   ]
  },
  {
   "cell_type": "markdown",
   "metadata": {},
   "source": [
    "### 2) 차원축소 기법(PCA와 LDA)을 이용하여 mnist data를 축소시켜주세요\n",
    "\n",
    "pca를 이용할 때는, 주성분 개수를 정하는 과정에 대해 잘 서술해주시면 좋겠죠!<br>\n",
    "강의에서 배웠던 3가지 중 어떤 걸 고려해서 갯수를 정했는지요!!!!<br>\n",
    "scree plot같은거는 직접 그려서 확인해주면 좋겠죠???"
   ]
  },
  {
   "cell_type": "code",
   "execution_count": 11,
   "metadata": {},
   "outputs": [],
   "source": [
    "from sklearn.decomposition import PCA\n",
    "# The amount of variance that each PCA explains is \n",
    "pca = PCA()\n",
    "\n"
   ]
  },
  {
   "cell_type": "code",
   "execution_count": 12,
   "metadata": {},
   "outputs": [
    {
     "name": "stdout",
     "output_type": "stream",
     "text": [
      "\n",
      "Eigenvalues \n",
      "[3.32801750e+05 2.45970422e+05 2.11769621e+05 1.85206585e+05\n",
      " 1.67315034e+05 1.48251910e+05 1.12569264e+05 9.95346150e+04\n",
      " 9.47170545e+04 8.01091172e+04 7.25551779e+04 7.04721523e+04\n",
      " 5.86049910e+04 5.80415728e+04 5.43748249e+04 5.11039314e+04\n",
      " 4.52710313e+04 4.36293410e+04 4.04185327e+04 3.95496243e+04\n",
      " 3.64943104e+04 3.45972875e+04 3.28534163e+04 3.10329895e+04\n",
      " 3.02167244e+04 2.86114595e+04 2.77448192e+04 2.68948432e+04\n",
      " 2.54338264e+04 2.36102818e+04 2.24820314e+04 2.22398560e+04\n",
      " 2.06521581e+04 2.00687143e+04 1.93941280e+04 1.85522233e+04\n",
      " 1.73863430e+04 1.67183644e+04 1.64387302e+04 1.60294768e+04\n",
      " 1.56611417e+04 1.52585741e+04 1.43035901e+04 1.36502332e+04\n",
      " 1.31643971e+04 1.28296752e+04 1.24536388e+04 1.19513663e+04\n",
      " 1.15788038e+04 1.09330340e+04 1.08523270e+04 1.05899059e+04\n",
      " 1.01765008e+04 9.89478122e+03 9.68495835e+03 9.25729225e+03\n",
      " 9.18800597e+03 8.80586632e+03 8.66203965e+03 8.39261009e+03\n",
      " 8.20655303e+03 8.11882387e+03 7.89033264e+03 7.58101609e+03\n",
      " 7.31020982e+03 7.07312448e+03 6.94816399e+03 6.68973341e+03\n",
      " 6.57438111e+03 6.46280807e+03 6.37445238e+03 6.18926914e+03\n",
      " 6.03346341e+03 5.92096481e+03 5.64789612e+03 5.61306848e+03\n",
      " 5.55366241e+03 5.29090910e+03 5.04764343e+03 4.88375634e+03\n",
      " 4.83379717e+03 4.81935011e+03 4.77916887e+03 4.62511358e+03\n",
      " 4.53433249e+03 4.50439261e+03 4.42486125e+03 4.30401771e+03\n",
      " 4.23757068e+03 4.12867094e+03 4.00582802e+03 3.92629727e+03\n",
      " 3.84273563e+03 3.77468691e+03 3.74107759e+03 3.68901039e+03\n",
      " 3.54077467e+03 3.52633251e+03 3.43829939e+03 3.41404508e+03\n",
      " 3.33430170e+03 3.25141936e+03 3.20292731e+03 3.12598586e+03\n",
      " 3.08274227e+03 3.04207421e+03 2.95362479e+03 2.90149977e+03\n",
      " 2.88693974e+03 2.81334284e+03 2.69244589e+03 2.67783014e+03\n",
      " 2.66611616e+03 2.62507792e+03 2.59742387e+03 2.56821464e+03\n",
      " 2.50787909e+03 2.49145485e+03 2.44769023e+03 2.41695650e+03\n",
      " 2.38323200e+03 2.35554766e+03 2.33588487e+03 2.29067201e+03\n",
      " 2.27210744e+03 2.20950509e+03 2.16989700e+03 2.14916572e+03\n",
      " 2.11775879e+03 2.07805076e+03 2.05808503e+03 2.03929598e+03\n",
      " 2.01018013e+03 1.99385900e+03 1.98052395e+03 1.96291982e+03\n",
      " 1.92938896e+03 1.89624566e+03 1.84432600e+03 1.80385867e+03\n",
      " 1.79201423e+03 1.74954778e+03 1.71894197e+03 1.71619902e+03\n",
      " 1.70474606e+03 1.68205702e+03 1.66588584e+03 1.64530162e+03\n",
      " 1.61367099e+03 1.60593494e+03 1.59165359e+03 1.58437363e+03\n",
      " 1.56836090e+03 1.54257561e+03 1.52948809e+03 1.50890014e+03\n",
      " 1.49549993e+03 1.46517661e+03 1.44332387e+03 1.43514856e+03\n",
      " 1.41572749e+03 1.39855896e+03 1.36720568e+03 1.35039437e+03\n",
      " 1.34529234e+03 1.33779004e+03 1.31845687e+03 1.30025850e+03\n",
      " 1.29377837e+03 1.27261299e+03 1.26133555e+03 1.25371111e+03\n",
      " 1.24111758e+03 1.22023444e+03 1.21403583e+03 1.20185298e+03\n",
      " 1.18211932e+03 1.17767205e+03 1.17006521e+03 1.16294194e+03\n",
      " 1.15208846e+03 1.13319155e+03 1.11972073e+03 1.11217710e+03\n",
      " 1.10963854e+03 1.09829002e+03 1.08940598e+03 1.07794982e+03\n",
      " 1.06534718e+03 1.06065545e+03 1.05236448e+03 1.03557182e+03\n",
      " 1.03259020e+03 1.02923470e+03 1.01380711e+03 1.00874037e+03\n",
      " 1.00117959e+03 9.95636579e+02 9.83380325e+02 9.73973089e+02\n",
      " 9.65058879e+02 9.51150430e+02 9.39287688e+02 9.31833047e+02\n",
      " 9.16460383e+02 9.16028076e+02 9.07456468e+02 8.99958524e+02\n",
      " 8.96751863e+02 8.88056255e+02 8.83200085e+02 8.81702293e+02\n",
      " 8.75011486e+02 8.64111564e+02 8.61170282e+02 8.53311783e+02\n",
      " 8.48854754e+02 8.41458892e+02 8.32770520e+02 8.28050980e+02\n",
      " 8.23950289e+02 8.22747092e+02 8.15401033e+02 8.09801900e+02\n",
      " 7.96662301e+02 7.94723492e+02 7.87712726e+02 7.79670812e+02\n",
      " 7.71562892e+02 7.64957564e+02 7.57221989e+02 7.56644628e+02\n",
      " 7.47318624e+02 7.38430257e+02 7.35470217e+02 7.32469067e+02\n",
      " 7.26979501e+02 7.19854954e+02 7.18413705e+02 7.09142545e+02\n",
      " 7.02086645e+02 6.97557725e+02 6.90867621e+02 6.89727451e+02\n",
      " 6.80410687e+02 6.77978108e+02 6.66960643e+02 6.62780916e+02\n",
      " 6.59694186e+02 6.55772499e+02 6.54039209e+02 6.51186382e+02\n",
      " 6.43414698e+02 6.39340010e+02 6.38156586e+02 6.31433351e+02\n",
      " 6.28377425e+02 6.24015512e+02 6.21512990e+02 6.16145742e+02\n",
      " 6.08648694e+02 6.07793360e+02 6.01167568e+02 5.96171002e+02\n",
      " 5.93385794e+02 5.90485814e+02 5.85884374e+02 5.81089101e+02\n",
      " 5.76683844e+02 5.72490015e+02 5.71383499e+02 5.71038135e+02\n",
      " 5.63446167e+02 5.59733570e+02 5.57294515e+02 5.55544060e+02\n",
      " 5.48065521e+02 5.46021471e+02 5.42433733e+02 5.40047333e+02\n",
      " 5.34027999e+02 5.29324163e+02 5.26573857e+02 5.23461359e+02\n",
      " 5.22328161e+02 5.14936829e+02 5.11698380e+02 5.09555693e+02\n",
      " 5.06555352e+02 4.98961194e+02 4.96279092e+02 4.93956224e+02\n",
      " 4.90558231e+02 4.86756532e+02 4.83650051e+02 4.79459113e+02\n",
      " 4.71298721e+02 4.69497260e+02 4.66640427e+02 4.66354232e+02\n",
      " 4.62561127e+02 4.60572742e+02 4.56485988e+02 4.54272934e+02\n",
      " 4.49255614e+02 4.45345663e+02 4.40249640e+02 4.36892433e+02\n",
      " 4.35015267e+02 4.34027802e+02 4.33168365e+02 4.32122097e+02\n",
      " 4.25481543e+02 4.22918439e+02 4.17578320e+02 4.15575310e+02\n",
      " 4.12001501e+02 4.09089373e+02 4.07823765e+02 4.07043748e+02\n",
      " 4.03335589e+02 4.01103454e+02 3.98935852e+02 3.96065230e+02\n",
      " 3.93997432e+02 3.92060052e+02 3.83886922e+02 3.81503196e+02\n",
      " 3.79397195e+02 3.77168254e+02 3.75348732e+02 3.74398138e+02\n",
      " 3.72180293e+02 3.69247398e+02 3.65441746e+02 3.64192292e+02\n",
      " 3.61863490e+02 3.60013695e+02 3.52632551e+02 3.51110792e+02\n",
      " 3.47755916e+02 3.44616363e+02 3.43190738e+02 3.40205688e+02\n",
      " 3.38003253e+02 3.36327760e+02 3.32605887e+02 3.30777044e+02\n",
      " 3.26757010e+02 3.23088622e+02 3.22356296e+02 3.17810761e+02\n",
      " 3.14922940e+02 3.14417586e+02 3.11225809e+02 3.10264554e+02\n",
      " 3.07834762e+02 3.05161177e+02 3.04446641e+02 3.00570141e+02\n",
      " 2.98036658e+02 2.96478217e+02 2.94041199e+02 2.91508011e+02\n",
      " 2.90156962e+02 2.88189852e+02 2.85513573e+02 2.81660230e+02\n",
      " 2.78343807e+02 2.77562241e+02 2.74485249e+02 2.72279681e+02\n",
      " 2.70594924e+02 2.67380188e+02 2.66376871e+02 2.62710457e+02\n",
      " 2.60268357e+02 2.57855367e+02 2.54525410e+02 2.51952815e+02\n",
      " 2.50817491e+02 2.50047784e+02 2.48193121e+02 2.46941714e+02\n",
      " 2.44253793e+02 2.39414944e+02 2.36896300e+02 2.36465702e+02\n",
      " 2.32904664e+02 2.30825445e+02 2.29052736e+02 2.24145396e+02\n",
      " 2.22263641e+02 2.19241199e+02 2.16521996e+02 2.15664630e+02\n",
      " 2.10476951e+02 2.09130492e+02 2.06864678e+02 2.04074453e+02\n",
      " 2.01194873e+02 2.00840320e+02 1.99156664e+02 1.95863878e+02\n",
      " 1.92963543e+02 1.90786710e+02 1.90404352e+02 1.85965886e+02\n",
      " 1.85623526e+02 1.84008047e+02 1.81452969e+02 1.80081620e+02\n",
      " 1.78953663e+02 1.76487602e+02 1.75418895e+02 1.73596448e+02\n",
      " 1.70589569e+02 1.69061511e+02 1.66790898e+02 1.64566721e+02\n",
      " 1.62406347e+02 1.61218647e+02 1.58898579e+02 1.58211976e+02\n",
      " 1.56043407e+02 1.53012347e+02 1.47723382e+02 1.45314174e+02\n",
      " 1.43821693e+02 1.42856445e+02 1.41654597e+02 1.40413996e+02\n",
      " 1.39428958e+02 1.37740358e+02 1.37002968e+02 1.32474041e+02\n",
      " 1.30097453e+02 1.29664913e+02 1.29022402e+02 1.27317194e+02\n",
      " 1.26167799e+02 1.24839245e+02 1.21653709e+02 1.20390485e+02\n",
      " 1.19342772e+02 1.18198346e+02 1.17279085e+02 1.16961278e+02\n",
      " 1.13033241e+02 1.11146757e+02 1.09425571e+02 1.08645832e+02\n",
      " 1.07854873e+02 1.04472063e+02 1.01222759e+02 1.00683741e+02\n",
      " 9.95781902e+01 9.95287280e+01 9.88218646e+01 9.67985786e+01\n",
      " 9.57413019e+01 9.39650948e+01 9.28908483e+01 9.07616023e+01\n",
      " 8.88709594e+01 8.73947102e+01 8.59177230e+01 8.54375505e+01\n",
      " 8.46630917e+01 8.20179711e+01 8.18119137e+01 8.07733018e+01\n",
      " 8.02040752e+01 7.92742108e+01 7.92016176e+01 7.68266728e+01\n",
      " 7.57146351e+01 7.39913105e+01 7.36909326e+01 7.29823820e+01\n",
      " 7.08055517e+01 7.02469642e+01 6.94581326e+01 6.80772693e+01\n",
      " 6.73006521e+01 6.54761625e+01 6.51002223e+01 6.42965680e+01\n",
      " 6.36395050e+01 6.23845211e+01 6.20078564e+01 6.12919886e+01\n",
      " 5.90809522e+01 5.81836206e+01 5.61717507e+01 5.52316441e+01\n",
      " 5.48234802e+01 5.40840539e+01 5.35644898e+01 5.27590944e+01\n",
      " 5.26074619e+01 5.08941512e+01 4.99568569e+01 4.88221245e+01\n",
      " 4.87217033e+01 4.77115166e+01 4.65223667e+01 4.63376905e+01\n",
      " 4.55236530e+01 4.54417516e+01 4.40063878e+01 4.35991397e+01\n",
      " 4.31151535e+01 4.19300440e+01 4.13092381e+01 4.09180448e+01\n",
      " 4.05673168e+01 3.98654192e+01 3.93707133e+01 3.88583615e+01\n",
      " 3.84026558e+01 3.75645876e+01 3.67545321e+01 3.66715709e+01\n",
      " 3.61767140e+01 3.53284931e+01 3.41085688e+01 3.15370376e+01\n",
      " 3.14848867e+01 3.11364069e+01 3.03830861e+01 3.01000843e+01\n",
      " 2.99920704e+01 2.94043776e+01 2.82619219e+01 2.75191016e+01\n",
      " 2.68426921e+01 2.66189172e+01 2.64370873e+01 2.62827556e+01\n",
      " 2.62409246e+01 2.53359799e+01 2.51588255e+01 2.46285693e+01\n",
      " 2.44079763e+01 2.41093082e+01 2.30846416e+01 2.27722458e+01\n",
      " 2.23967695e+01 2.22537014e+01 2.15571123e+01 1.97400459e+01\n",
      " 1.93564322e+01 1.84521309e+01 1.83682008e+01 1.83442672e+01\n",
      " 1.78560762e+01 1.76040601e+01 1.69885738e+01 1.67379233e+01\n",
      " 1.63398051e+01 1.62889394e+01 1.58879220e+01 1.56861883e+01\n",
      " 1.56056571e+01 1.54968700e+01 1.51467859e+01 1.41157233e+01\n",
      " 1.40154656e+01 1.35172704e+01 1.32022854e+01 1.31524264e+01\n",
      " 1.27615758e+01 1.17223665e+01 1.13691388e+01 1.10083168e+01\n",
      " 1.07541864e+01 1.06133666e+01 1.03852612e+01 1.01018458e+01\n",
      " 9.59511728e+00 9.53519495e+00 9.34681425e+00 9.33997859e+00\n",
      " 9.23292890e+00 9.01785621e+00 8.78756104e+00 8.32015186e+00\n",
      " 8.15237512e+00 7.97590367e+00 7.43509647e+00 7.24161275e+00\n",
      " 7.07910227e+00 6.92012862e+00 6.88346145e+00 6.80819758e+00\n",
      " 6.77600128e+00 6.73222202e+00 6.28847986e+00 6.28089432e+00\n",
      " 6.07999907e+00 5.90781203e+00 5.84910792e+00 5.71982971e+00\n",
      " 5.35771825e+00 5.28711372e+00 5.11143393e+00 4.55616452e+00\n",
      " 4.45689232e+00 4.31069862e+00 4.23968201e+00 4.02685848e+00\n",
      " 3.97802191e+00 3.91754961e+00 3.82395954e+00 3.68079889e+00\n",
      " 3.61691148e+00 3.56448352e+00 3.55563210e+00 3.45520373e+00\n",
      " 3.13944016e+00 3.11500125e+00 2.98000571e+00 2.93130609e+00\n",
      " 2.70018666e+00 2.68107543e+00 2.58887300e+00 2.49342424e+00\n",
      " 2.42130685e+00 2.13735136e+00 2.09946865e+00 2.02748636e+00\n",
      " 1.91217322e+00 1.74375366e+00 1.72379441e+00 1.70564173e+00\n",
      " 1.68804027e+00 1.67519532e+00 1.64135421e+00 1.61735502e+00\n",
      " 1.59476423e+00 1.55224270e+00 1.42345075e+00 1.41814121e+00\n",
      " 1.31307976e+00 1.25448860e+00 1.19657611e+00 1.18406354e+00\n",
      " 1.07365754e+00 1.05998528e+00 1.05112436e+00 9.99942330e-01\n",
      " 9.90620288e-01 8.71120269e-01 8.25839190e-01 7.62949587e-01\n",
      " 7.50869101e-01 7.43005123e-01 7.36151149e-01 6.52884468e-01\n",
      " 6.15468044e-01 5.94593313e-01 5.11231387e-01 5.10444454e-01\n",
      " 5.05070531e-01 4.91842466e-01 4.03416017e-01 3.55897773e-01\n",
      " 3.53060399e-01 3.48353762e-01 3.41686742e-01 2.70323235e-01\n",
      " 2.15402195e-01 2.13904349e-01 1.87186399e-01 1.69499190e-01\n",
      " 1.61311324e-01 1.58782974e-01 1.28092147e-01 1.26851748e-01\n",
      " 1.01816130e-01 9.45868872e-02 8.75135225e-02 7.75330828e-02\n",
      " 7.38889384e-02 6.82070193e-02 6.76257322e-02 6.49959083e-02\n",
      " 5.32044756e-02 4.48259147e-02 4.33986429e-02 3.90050411e-02\n",
      " 3.26505996e-02 2.70329910e-02 2.66494530e-02 2.06409807e-02\n",
      " 1.94512271e-02 1.83552053e-02 1.82130452e-02 1.35207459e-02\n",
      " 1.10811895e-02 5.22156265e-03 3.44236530e-03 1.23103102e-03\n",
      " 8.91993554e-04 7.67685285e-04 2.92479710e-04 5.88591585e-05\n",
      " 6.56837828e-26 3.29892623e-26 1.64265647e-26 1.59127620e-26\n",
      " 1.47773166e-26 1.34251679e-26 1.19106118e-26 1.11107339e-26\n",
      " 9.50665859e-27 9.31347732e-27 8.10317759e-27 5.83389679e-27\n",
      " 5.52942472e-27 5.44315327e-27 4.28254336e-27 4.24372380e-27\n",
      " 3.89973617e-27 2.82475337e-27 2.67200853e-27 1.79209303e-27\n",
      " 1.35772318e-27 1.35124255e-27 1.35124255e-27 1.35124255e-27\n",
      " 1.35124255e-27 1.35124255e-27 1.35124255e-27 1.35124255e-27\n",
      " 1.35124255e-27 1.35124255e-27 1.35124255e-27 1.35124255e-27\n",
      " 1.35124255e-27 1.35124255e-27 1.35124255e-27 1.35124255e-27\n",
      " 1.35124255e-27 1.35124255e-27 1.35124255e-27 1.35124255e-27\n",
      " 1.35124255e-27 1.35124255e-27 1.35124255e-27 1.35124255e-27\n",
      " 1.35124255e-27 1.35124255e-27 1.35124255e-27 1.35124255e-27\n",
      " 1.35124255e-27 1.35124255e-27 1.35124255e-27 1.35124255e-27\n",
      " 1.35124255e-27 1.35124255e-27 1.35124255e-27 1.35124255e-27\n",
      " 1.35124255e-27 1.35124255e-27 1.35124255e-27 1.35124255e-27\n",
      " 1.35124255e-27 1.35124255e-27 1.35124255e-27 1.35124255e-27\n",
      " 1.35124255e-27 1.35124255e-27 1.35124255e-27 1.35124255e-27\n",
      " 1.35124255e-27 1.31840978e-27 9.59208682e-28 7.18318593e-28\n",
      " 3.16266692e-28 2.72980955e-28 1.67734260e-28 1.61262757e-29]\n",
      "Eigenvectors \n",
      "[[ 7.16429578e-20 -5.55111512e-17 -1.38777878e-16 ...  0.00000000e+00\n",
      "   0.00000000e+00  0.00000000e+00]\n",
      " [ 5.43220044e-19  1.11022302e-16  1.11022302e-16 ... -0.00000000e+00\n",
      "  -0.00000000e+00 -0.00000000e+00]\n",
      " [-5.98903356e-19 -1.11022302e-16 -1.11022302e-16 ... -0.00000000e+00\n",
      "  -0.00000000e+00 -0.00000000e+00]\n",
      " ...\n",
      " [ 0.00000000e+00  2.74760600e-02  1.11855619e-01 ...  0.00000000e+00\n",
      "   0.00000000e+00  0.00000000e+00]\n",
      " [ 0.00000000e+00 -1.19372210e-01  1.90976289e-01 ...  0.00000000e+00\n",
      "   0.00000000e+00  0.00000000e+00]\n",
      " [ 0.00000000e+00 -3.34828874e-02 -3.76197656e-02 ...  0.00000000e+00\n",
      "   0.00000000e+00  0.00000000e+00]]\n"
     ]
    }
   ],
   "source": [
    "#Using Sklearn (As Performed Above)\n",
    "\n",
    "X_r = pca.fit(X_train).transform(X_train)\n",
    "print('\\nEigenvalues \\n%s' %pca.explained_variance_)\n",
    "print('Eigenvectors \\n%s' %pca.components_)"
   ]
  },
  {
   "cell_type": "code",
   "execution_count": 13,
   "metadata": {},
   "outputs": [
    {
     "data": {
      "image/png": "[encoded data removed]",
      "text/plain": [
       "<Figure size 432x288 with 1 Axes>"
      ]
     },
     "metadata": {
      "needs_background": "light"
     },
     "output_type": "display_data"
    }
   ],
   "source": [
    "# scree plot으로 최적의 principle component를 찾기 \n",
    "def scree_plot():\n",
    "    from matplotlib.pyplot import figure, show\n",
    "    from matplotlib.ticker import MaxNLocator\n",
    "\n",
    "    ax = figure().gca()\n",
    "    ax.plot(pca.explained_variance_)\n",
    "    ax.xaxis.set_major_locator(MaxNLocator(integer=True))\n",
    "    plt.xlabel('Principal Component')\n",
    "    plt.ylabel('Eigenvalue')\n",
    "    plt.axhline(y=1, linewidth=1, color='r', alpha=0.5)\n",
    "    plt.title('Scree Plot of PCA: Component Eigenvalues')\n",
    "    show()\n",
    "\n",
    "scree_plot()"
   ]
  },
  {
   "cell_type": "code",
   "execution_count": 14,
   "metadata": {},
   "outputs": [
    {
     "data": {
      "image/png": "[encoded data removed]",
      "text/plain": [
       "<Figure size 432x288 with 1 Axes>"
      ]
     },
     "metadata": {
      "needs_background": "light"
     },
     "output_type": "display_data"
    }
   ],
   "source": [
    "#Var_explained 모델로 variance 를 그려봐야한다. \n",
    "def var_explained():\n",
    "    import numpy as np\n",
    "    from matplotlib.pyplot import figure, show\n",
    "    from matplotlib.ticker import MaxNLocator\n",
    "\n",
    "    ax = figure().gca()\n",
    "    ax.plot(np.cumsum(pca.explained_variance_ratio_))\n",
    "    ax.xaxis.set_major_locator(MaxNLocator(integer=True))\n",
    "    plt.xlabel('Number of Components')\n",
    "    plt.ylabel('Cumulative Explained Variance')\n",
    "    plt.axvline(x=1, linewidth=1, color='r', alpha=0.5)\n",
    "    plt.title('Explained Variance of PCA by Component')\n",
    "    show()\n",
    "\n",
    "var_explained()"
   ]
  },
  {
   "cell_type": "code",
   "execution_count": 15,
   "metadata": {},
   "outputs": [
    {
     "data": {
      "image/png": "[encoded data removed]",
      "text/plain": [
       "<Figure size 864x360 with 1 Axes>"
      ]
     },
     "metadata": {
      "needs_background": "light"
     },
     "output_type": "display_data"
    }
   ],
   "source": [
    "# elbow 포인트 지점을 확인하기 위해 0~100 구간을 세밀하게 살펴보도록 한다.\n",
    "# 확인 결과, 상위 13개의 eigen value를 제외한 나머지 eigen value 사이에는 그다지 큰 차이가 없는 것으로 보인다.\n",
    "\n",
    "plt.figure(figsize=(12, 5))\n",
    "plt.plot(range(0, 100), np.sort(pca.explained_variance_)[::-1][0:100])\n",
    "\n",
    "plt.title('ELBOW POINT', size=15)\n",
    "plt.axvline(12, ls='--', color='grey')\n",
    "\n",
    "plt.show()"
   ]
  },
  {
   "cell_type": "code",
   "execution_count": 16,
   "metadata": {},
   "outputs": [
    {
     "data": {
      "image/png": "[encoded data removed]",
      "text/plain": [
       "<Figure size 864x360 with 1 Axes>"
      ]
     },
     "metadata": {
      "needs_background": "light"
     },
     "output_type": "display_data"
    }
   ],
   "source": [
    "plt.figure(figsize=(12, 5))\n",
    "plt.plot(range(100, 200), np.sort(pca.explained_variance_)[::-1][100:200])\n",
    "\n",
    "plt.title(\"Kaiser's Rule\", size=15)\n",
    "plt.axhline(1, ls='--', color='grey')\n",
    "plt.axvline(160, ls='--', color='grey')\n",
    "\n",
    "plt.show()"
   ]
  },
  {
   "cell_type": "code",
   "execution_count": 17,
   "metadata": {},
   "outputs": [],
   "source": [
    "pca = PCA(n_components=160)\n",
    "pca.fit(X_scaled_train)\n",
    "X_PCA_train = pca.transform(X_scaled_train)\n",
    "X_PCA_test  = pca.transform(X_scaled_test)"
   ]
  },
  {
   "cell_type": "code",
   "execution_count": 18,
   "metadata": {},
   "outputs": [],
   "source": [
    "from sklearn.ensemble import RandomForestClassifier\n",
    "from sklearn.model_selection import GridSearchCV"
   ]
  },
  {
   "cell_type": "code",
   "execution_count": 19,
   "metadata": {},
   "outputs": [],
   "source": [
    "import time\n",
    "import warnings\n",
    "warnings.filterwarnings('ignore')"
   ]
  },
  {
   "cell_type": "code",
   "execution_count": 20,
   "metadata": {},
   "outputs": [],
   "source": [
    "rf = RandomForestClassifier()"
   ]
  },
  {
   "cell_type": "code",
   "execution_count": 21,
   "metadata": {},
   "outputs": [],
   "source": [
    "from sklearn.metrics import *"
   ]
  },
  {
   "cell_type": "code",
   "execution_count": 22,
   "metadata": {},
   "outputs": [],
   "source": [
    "start = time.time()\n",
    "\n",
    "rf.fit(X_PCA_train , y_train)\n",
    "end  = time.time()\n",
    "pred = rf.predict(X_PCA_test)"
   ]
  },
  {
   "cell_type": "code",
   "execution_count": 23,
   "metadata": {},
   "outputs": [
    {
     "name": "stdout",
     "output_type": "stream",
     "text": [
      "time > 66.11772632598877\n"
     ]
    }
   ],
   "source": [
    "print(f'time > {end-start}')"
   ]
  },
  {
   "cell_type": "code",
   "execution_count": 24,
   "metadata": {},
   "outputs": [
    {
     "name": "stdout",
     "output_type": "stream",
     "text": [
      "0.9430285714285714\n"
     ]
    }
   ],
   "source": [
    "# random forest 스코어\n",
    "print(accuracy_score(pred, y_test))"
   ]
  },
  {
   "cell_type": "code",
   "execution_count": 25,
   "metadata": {},
   "outputs": [],
   "source": [
    "#decision Tree\n",
    "from sklearn.tree import DecisionTreeClassifier"
   ]
  },
  {
   "cell_type": "code",
   "execution_count": 26,
   "metadata": {},
   "outputs": [
    {
     "name": "stdout",
     "output_type": "stream",
     "text": [
      "time > 15.461451053619385\n"
     ]
    }
   ],
   "source": [
    "dt_clf = DecisionTreeClassifier()\n",
    "start = time.time()\n",
    "dt_clf.fit(X_train, y_train)\n",
    "end  = time.time()\n",
    "print(f'time > {end-start}')"
   ]
  },
  {
   "cell_type": "code",
   "execution_count": 27,
   "metadata": {},
   "outputs": [
    {
     "name": "stdout",
     "output_type": "stream",
     "text": [
      "0.8682285714285715\n"
     ]
    }
   ],
   "source": [
    "pred = dt_clf.predict(X_test)\n",
    "print(accuracy_score(pred, y_test))"
   ]
  },
  {
   "cell_type": "code",
   "execution_count": 28,
   "metadata": {},
   "outputs": [],
   "source": [
    "from sklearn.discriminant_analysis import LinearDiscriminantAnalysis\n"
   ]
  },
  {
   "cell_type": "code",
   "execution_count": 29,
   "metadata": {},
   "outputs": [],
   "source": [
    "# lda 먼저 initialize 하기 \n",
    "\n",
    "lda = LinearDiscriminantAnalysis()"
   ]
  },
  {
   "cell_type": "code",
   "execution_count": 30,
   "metadata": {},
   "outputs": [],
   "source": [
    "lda.fit_transform(X_scaled_train,y_train)\n",
    "#pca.fit(X_scaled_train)\n",
    "X_LDA_train = pca.transform(X_scaled_train)\n",
    "X_LDA_test  = pca.transform(X_scaled_test)"
   ]
  },
  {
   "cell_type": "code",
   "execution_count": 31,
   "metadata": {},
   "outputs": [],
   "source": [
    "# rf\n",
    "start = time.time()\n",
    "rf.fit(X_LDA_train, y_train)\n",
    "end  = time.time()\n",
    "pred = rf.predict(X_LDA_test)"
   ]
  },
  {
   "cell_type": "code",
   "execution_count": 32,
   "metadata": {},
   "outputs": [
    {
     "name": "stdout",
     "output_type": "stream",
     "text": [
      "0.9435428571428571\n"
     ]
    }
   ],
   "source": [
    "# lda 스코어\n",
    "print(accuracy_score(pred, y_test))"
   ]
  },
  {
   "cell_type": "code",
   "execution_count": 33,
   "metadata": {},
   "outputs": [
    {
     "name": "stdout",
     "output_type": "stream",
     "text": [
      "time > 16.888507843017578\n"
     ]
    }
   ],
   "source": [
    "start = time.time()\n",
    "dt_clf.fit(X_LDA_train, y_train)\n",
    "end  = time.time()\n",
    "print(f'time > {end-start}')"
   ]
  },
  {
   "cell_type": "code",
   "execution_count": 34,
   "metadata": {},
   "outputs": [
    {
     "name": "stdout",
     "output_type": "stream",
     "text": [
      "0.9435428571428571\n"
     ]
    }
   ],
   "source": [
    "# lda 스코어\n",
    "print(accuracy_score(pred, y_test))"
   ]
  },
  {
   "cell_type": "markdown",
   "metadata": {},
   "source": [
    "### 3) 지금까지 배웠던 머신러닝 기법을 이용하여 학습해주세요 (2개이상 사용)"
   ]
  },
  {
   "cell_type": "markdown",
   "metadata": {},
   "source": [
    "###  이때 time stamp를 찍어서 training 시간을 비교하고, test accuracy도 비교해주세요\n",
    "#### (원본 데이터 & PCA 축소 데이터 & LDA 축소 데이터 비교)"
   ]
  },
  {
   "cell_type": "code",
   "execution_count": null,
   "metadata": {},
   "outputs": [],
   "source": []
  },
  {
   "cell_type": "markdown",
   "metadata": {},
   "source": [
    "특정한 틀 없이 자유롭게 해주시면 됩니다!"
   ]
  }
 ],
 "metadata": {
  "kernelspec": {
   "display_name": "Python 3",
   "language": "python",
   "name": "python3"
  },
  "language_info": {
   "codemirror_mode": {
    "name": "ipython",
    "version": 3
   },
   "file_extension": ".py",
   "mimetype": "text/x-python",
   "name": "python",
   "nbconvert_exporter": "python",
   "pygments_lexer": "ipython3",
   "version": "3.8.5"
  }
 },
 "nbformat": 4,
 "nbformat_minor": 2
}
