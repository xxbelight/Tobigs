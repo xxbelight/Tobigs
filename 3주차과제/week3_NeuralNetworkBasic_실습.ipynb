{
 "cells": [
  {
   "cell_type": "markdown",
   "id": "85a118d8",
   "metadata": {},
   "source": [
    "> # Neural Network Basic - Week3 과제\n"
   ]
  },
  {
   "cell_type": "markdown",
   "id": "4f6e2fe4",
   "metadata": {},
   "source": [
    "## Import Library"
   ]
  },
  {
   "cell_type": "code",
   "execution_count": 4,
   "id": "1d5a657c",
   "metadata": {},
   "outputs": [],
   "source": [
    "#pip install datasets\n",
    "#!pip install mnist"
   ]
  },
  {
   "cell_type": "code",
   "execution_count": null,
   "id": "cd19c1a7",
   "metadata": {},
   "outputs": [],
   "source": []
  },
  {
   "cell_type": "code",
   "execution_count": 18,
   "id": "619db4a8",
   "metadata": {},
   "outputs": [],
   "source": [
    "  # 부모 디렉터리의 파일을 가져올 수 있도록 설정\n",
    "def get_data():\n",
    "    (x_train, t_train), (x_test, t_test) = load_mnist(flatten=True, normalize=True)\n",
    "    return x_test, t_test"
   ]
  },
  {
   "cell_type": "code",
   "execution_count": 20,
   "id": "e99f9f2a",
   "metadata": {},
   "outputs": [],
   "source": [
    "#from datasets.MNIST import load_mnist"
   ]
  },
  {
   "cell_type": "code",
   "execution_count": null,
   "id": "ee0f1529",
   "metadata": {
    "scrolled": true
   },
   "outputs": [],
   "source": []
  },
  {
   "cell_type": "code",
   "execution_count": 21,
   "id": "40800cfd",
   "metadata": {},
   "outputs": [],
   "source": [
    "from keras.datasets import mnist\n"
   ]
  },
  {
   "cell_type": "code",
   "execution_count": 22,
   "id": "d700b43e",
   "metadata": {},
   "outputs": [],
   "source": [
    "(X_train, y_train), (X_test, y_test) = mnist.load_data()"
   ]
  },
  {
   "cell_type": "code",
   "execution_count": 46,
   "id": "d963713f",
   "metadata": {},
   "outputs": [],
   "source": [
    "import numpy as np\n",
    "from matplotlib import pyplot as plt\n",
    "#from datasets.MNIST import load_mnist\n"
   ]
  },
  {
   "cell_type": "markdown",
   "id": "553e0eaa",
   "metadata": {},
   "source": [
    "## Load Dataset\n",
    "- MNIST "
   ]
  },
  {
   "cell_type": "code",
   "execution_count": 7,
   "id": "fd82d4e9",
   "metadata": {},
   "outputs": [],
   "source": [
    "#(X_train, Y_train), (X_test, Y_test) = \\\n",
    "    #load_mnist(normalize=True, one_hot_label=False)"
   ]
  },
  {
   "cell_type": "code",
   "execution_count": null,
   "id": "50bb359e",
   "metadata": {},
   "outputs": [],
   "source": []
  },
  {
   "cell_type": "code",
   "execution_count": 25,
   "id": "e89822c9",
   "metadata": {},
   "outputs": [
    {
     "data": {
      "text/plain": [
       "(10000, 784)"
      ]
     },
     "execution_count": 25,
     "metadata": {},
     "output_type": "execute_result"
    }
   ],
   "source": [
    "X_test = X_test.reshape(-1, 28**2)\n",
    "X_test.shape\n"
   ]
  },
  {
   "cell_type": "code",
   "execution_count": 26,
   "id": "cb7f2488",
   "metadata": {},
   "outputs": [
    {
     "data": {
      "text/plain": [
       "(60000, 784)"
      ]
     },
     "execution_count": 26,
     "metadata": {},
     "output_type": "execute_result"
    }
   ],
   "source": [
    "X_train = X_train.reshape(-1, 28**2)\n",
    "X_train.shape"
   ]
  },
  {
   "cell_type": "code",
   "execution_count": 28,
   "id": "c91cdc52",
   "metadata": {},
   "outputs": [
    {
     "name": "stdout",
     "output_type": "stream",
     "text": [
      "X_train shape: (60000, 784)\n",
      "X_test shape: (10000, 784)\n",
      "Y_train shape: (60000,)\n",
      "Y_train shape: (10000,)\n"
     ]
    }
   ],
   "source": [
    "print(f'X_train shape: {X_train.shape}')\n",
    "print(f'X_test shape: {X_test.shape}')\n",
    "print(f'Y_train shape: {y_train.shape}')\n",
    "print(f'Y_train shape: {y_test.shape}')"
   ]
  },
  {
   "cell_type": "markdown",
   "id": "8de80594",
   "metadata": {},
   "source": [
    "## Activation Function \n",
    "- sigmoid & relu : hidden layer activation function \n",
    "- softmax : output layer activation function "
   ]
  },
  {
   "cell_type": "code",
   "execution_count": null,
   "id": "837e7694",
   "metadata": {},
   "outputs": [],
   "source": []
  },
  {
   "cell_type": "code",
   "execution_count": 31,
   "id": "1f745f06",
   "metadata": {},
   "outputs": [],
   "source": [
    "class sigmoid:\n",
    "    # sigmoid 함수를 작성하세요 \n",
    "    def forward(x):\n",
    "        return 1/ (1 + np.exp(-x))\n",
    "    \n",
    "    # sigmoid 함수의 미분을 작성하세요\n",
    "    def backward(x):\n",
    "        return x * (1 - x)"
   ]
  },
  {
   "cell_type": "code",
   "execution_count": 32,
   "id": "c604e44b",
   "metadata": {},
   "outputs": [],
   "source": [
    "class relu:\n",
    "    # relu 함수를 작성하세요\n",
    "    def forward(x):\n",
    "        return np.maximum(0,x) # 0 아래는 0으로!\n",
    "    \n",
    "    # relu 함수의 미분을 작성하세요\n",
    "    def backward(x):\n",
    "        return np.where(x>0,1,0) # x가 0보다 크면 1 아니면 0으로!"
   ]
  },
  {
   "cell_type": "code",
   "execution_count": 33,
   "id": "e9883a56",
   "metadata": {},
   "outputs": [],
   "source": [
    "class softmax:\n",
    "    def forward(z):\n",
    "        y = []\n",
    "        for zi in z:\n",
    "            c = np.max(zi)\n",
    "            exp_zi = np.exp(zi-c)\n",
    "            sum_exp_zi = np.sum(exp_zi)\n",
    "            yi = exp_zi / sum_exp_zi\n",
    "            y.append(yi)\n",
    "\n",
    "        return np.array(y)\n",
    "    \n",
    "    def backward(p, y) :\n",
    "        dp = p.copy()\n",
    "        for dpi, yi in zip(dp, y):\n",
    "            for k in range(dp.shape[1]):\n",
    "                if k == yi :\n",
    "                    dpi[k] -= 1\n",
    "        return dp"
   ]
  },
  {
   "cell_type": "markdown",
   "id": "90df1ae1",
   "metadata": {},
   "source": [
    "## Loss Function"
   ]
  },
  {
   "cell_type": "code",
   "execution_count": 34,
   "id": "3f921025",
   "metadata": {},
   "outputs": [],
   "source": [
    "def cross_entropy(p, y):\n",
    "    loss = []\n",
    "    for pi, yi in zip(p, y):\n",
    "        for k in range(p.shape[1]):\n",
    "            if k == yi:\n",
    "                loss.append((-1) * (np.log(pi[k] + 1e-8))) \n",
    "    return loss"
   ]
  },
  {
   "cell_type": "markdown",
   "id": "9e9f2080",
   "metadata": {},
   "source": [
    "## Layer"
   ]
  },
  {
   "cell_type": "code",
   "execution_count": 35,
   "id": "ef3ace0f",
   "metadata": {},
   "outputs": [],
   "source": [
    "class Layer:\n",
    "    def __init__(self, input_size, output_size, std=1e-4) :\n",
    "        self.input_size = input_size\n",
    "        self.output_size = output_size\n",
    "        self.bias = np.random.randn(output_size)\n",
    "        self.weight = np.random.randn(input_size, output_size)*std"
   ]
  },
  {
   "cell_type": "markdown",
   "id": "b04a8741",
   "metadata": {},
   "source": [
    "## Neural Network\n",
    "- 각 메소드와 변수들의 역할을 주석으로 달아주세요! "
   ]
  },
  {
   "cell_type": "code",
   "execution_count": 36,
   "id": "ddb0fffd",
   "metadata": {},
   "outputs": [],
   "source": [
    "class CustomNet:\n",
    "    # CustomNet을 선언할 때 생성되는 값들입니다.\n",
    "    def __init__(self, lr=0.0001, epoch=500, batch_size=200):\n",
    "        self.lr = lr # 지정된 learning rate 를 사용한다. \n",
    "        self.epoch = epoch  # 모델이 학습을 반복하는 횟수를 입력한다. \n",
    "        self.batch_size = batch_size #batch는 데이터를 잘게 잘라서 사용하는 것이므로 얼마나 작게 나누어야 하는지 알게해줌. \n",
    "        self.loss_function = cross_entropy #loss function중에 binary에 주요 사용되는 cross entropy를 선택 \n",
    "        self.layers = [] # 리스트 layser , 점점 append 되어짐\n",
    "        self.activations = [softmax] # 활성화 함수로는 softmax를 사용한다. \n",
    "        self.nodes = [] # 레이어에 대한 노드의 수 \n",
    "    \n",
    "    # Layer를 추가할 때 호출합니다\n",
    "    def addLayer(self, Layer): \n",
    "        self.layers.append(Layer) \n",
    "        if not self.nodes: \n",
    "            self.nodes.append(np.zeros(Layer.input_size))\n",
    "        self.nodes.append(np.zeros(Layer.output_size))\n",
    "        \n",
    "    # Activation Function을 추가할 때 호출합니다\n",
    "    def addActivation(self, Activation):\n",
    "        tmp = self.activations.pop() #가장 뒷부분에 있는 활성화 함수를 의미 , pop()은 리스트의 마지막 원소를 뽑아낸다. \n",
    "        self.activations.append(Activation) \n",
    "        self.activations.append(tmp) # 마지막에 추가되는 tmp\n",
    "        \n",
    "    # 순전파 함수\n",
    "    def _forward(self, X):\n",
    "        self.nodes[0] = X.copy() # node를 초기화시키기 위함. \n",
    "        output = X.copy() # output 에 x를 담는다. \n",
    "        for i in range(len(self.layers)): # len(layer) 는 layer 의 개수를 뜻함으로 그 수만큼 반복문을 말한다. \n",
    "            Layer = self.layers[i] # 개별 레이어를 지정한다. \n",
    "            Activation = self.activations[i] #레이어에 대한 활성화 함수를 따로 지정한다. \n",
    "            output = np.dot(self.nodes[i], Layer.weight) # dot은 내적을 의미하므로 , 노드의 값과 가중치를 곱한다. \n",
    "            output = output+ Layer.bias # 상수 추가 \n",
    "            output = Activation.forward(output) #활성화를 적용한다. \n",
    "            self.nodes[i+1] = output #다음 결과로 다시 출력 -> 최종 output \n",
    "        return output   \n",
    "    \n",
    "    # 역전파 함수\n",
    "    def _backward(self, X, output, y) :\n",
    "        for i in reversed(range(len(self.layers))): # reversed란 반대로 출력하는 것을 의미하므로 layer 길이 반대부터!\n",
    "            a = self.nodes[i+1] \n",
    "            Layer = self.layers[i] \n",
    "            Activation = self.activations[i] \n",
    "            \n",
    "            if i+1 == len(self.layers): # layer마다 따로 실제값과 y값의 에러를 업데이터 시켜야한다. \n",
    "                error = Activation.backward(output, y)\n",
    "            else:\n",
    "                error *= Activation.backward(a)\n",
    "            Layer.weight -= np.dot(error.T, self.nodes[i]).T*self.lr/X.shape[0] \n",
    "            Layer.bias -= error.sum(axis=0)*self.lr/X.shape[0]\n",
    "            error = np.dot(error, Layer.weight.T) \n",
    "            \n",
    "    # Accrucy를 반환합니다\n",
    "    def _accuracy(self, output, y):\n",
    "        pre_p = np.argmax(output, axis=1) # argmax는 가장 높은 값\n",
    "        return np.sum(pre_p==y)/y.shape[0] # true일때 예측값도 true인 값들을 출력한다. \n",
    "    \n",
    "    # 데이터셋에 모델을 fit할때 호출합니다\n",
    "    def fit(self, X, y, val_X, val_y):\n",
    "        history = {'val_acc': [],'val_loss': []}\n",
    "        N = X.shape[0]\n",
    "        for i in range(self.epoch):# epoch 수만큼 range 만들어야 함. \n",
    "            for j in range(N//self.batch_size): \n",
    "                batch_mask = np.random.choice(N, self.batch_size)\n",
    "                X_batch = X[batch_mask] \n",
    "                y_batch = y[batch_mask] \n",
    "                output = self._forward(X_batch) \n",
    "                self._backward(X_batch, output, y_batch)\n",
    "            \n",
    "            #accuracy와 loss를 기록해둡시다\n",
    "            output = self._forward(val_X) # validation에 대한 forward값 \n",
    "            history[\"val_acc\"].append(self._accuracy(output, val_y)) \n",
    "            history[\"val_loss\"].append(sum(self.loss_function(output, val_y))) \n",
    "            \n",
    "            #중간중간 기록을 찍어볼 때 사용. 적절히 조절해 쓰세요\n",
    "            if i % 10 == 0:\n",
    "                print(i, \"test accuracy :\", history[\"val_acc\"][-1])\n",
    "                print(i, \"test loss     :\", history[\"val_loss\"][-1])\n",
    "        return history"
   ]
  },
  {
   "cell_type": "markdown",
   "id": "4c7acabd",
   "metadata": {},
   "source": [
    "## Customizing\n",
    "- Network parameter, Layer architecture, Activation function .. 등등 다양한 하이퍼파라미터를 커스터마이징하여 높은 성능에 도달해 봅시다! "
   ]
  },
  {
   "cell_type": "code",
   "execution_count": 37,
   "id": "7f709142",
   "metadata": {},
   "outputs": [],
   "source": [
    "# 하이퍼파라미터를 적절히 조절해 뉴럴넷을 선언하세요\n",
    "nn = CustomNet(lr=0.005, epoch=200, batch_size=400)\n",
    "\n",
    "# 원하는 만큼 층과 활성화 함수를 쌓아 주세요. 기본적으로 2Layer를 예시로 적어드립니다\n",
    "nn.addLayer(Layer(784,100))\n",
    "nn.addActivation(sigmoid)\n",
    "nn.addLayer(Layer(100,10))"
   ]
  },
  {
   "cell_type": "code",
   "execution_count": 38,
   "id": "30e60f3c",
   "metadata": {},
   "outputs": [
    {
     "name": "stdout",
     "output_type": "stream",
     "text": [
      "(784, 100) (100,)\n",
      "(100, 10) (10,)\n"
     ]
    }
   ],
   "source": [
    "# 선언한 뉴럴넷의 구조입니다\n",
    "for layer in nn.layers:\n",
    "    print(layer.weight.shape, layer.bias.shape)"
   ]
  },
  {
   "cell_type": "code",
   "execution_count": 39,
   "id": "d84b75ac",
   "metadata": {},
   "outputs": [
    {
     "name": "stdout",
     "output_type": "stream",
     "text": [
      "0 test accuracy : 0.4857\n",
      "0 test loss     : 19708.06348489572\n",
      "10 test accuracy : 0.9198\n",
      "10 test loss     : 4328.999563167179\n",
      "20 test accuracy : 0.934\n",
      "20 test loss     : 2915.8724622681193\n",
      "30 test accuracy : 0.9408\n",
      "30 test loss     : 2451.1725787278256\n",
      "40 test accuracy : 0.9422\n",
      "40 test loss     : 2222.493832155361\n",
      "50 test accuracy : 0.945\n",
      "50 test loss     : 2077.7237881660985\n",
      "60 test accuracy : 0.9448\n",
      "60 test loss     : 1987.591253808151\n",
      "70 test accuracy : 0.9461\n",
      "70 test loss     : 1902.780658685623\n",
      "80 test accuracy : 0.9477\n",
      "80 test loss     : 1823.701548140758\n",
      "90 test accuracy : 0.9468\n",
      "90 test loss     : 1803.0483976758246\n",
      "100 test accuracy : 0.9484\n",
      "100 test loss     : 1757.5582675093726\n",
      "110 test accuracy : 0.9474\n",
      "110 test loss     : 1737.6955332096718\n",
      "120 test accuracy : 0.9481\n",
      "120 test loss     : 1705.3713503736408\n",
      "130 test accuracy : 0.9484\n",
      "130 test loss     : 1698.0807826435828\n",
      "140 test accuracy : 0.949\n",
      "140 test loss     : 1679.4905719825024\n",
      "150 test accuracy : 0.9499\n",
      "150 test loss     : 1662.745685147503\n",
      "160 test accuracy : 0.9495\n",
      "160 test loss     : 1663.199748726273\n",
      "170 test accuracy : 0.9498\n",
      "170 test loss     : 1649.8811529438703\n",
      "180 test accuracy : 0.95\n",
      "180 test loss     : 1639.3674080539854\n",
      "190 test accuracy : 0.9496\n",
      "190 test loss     : 1630.7793162034325\n"
     ]
    }
   ],
   "source": [
    "history = nn.fit(X_train, y_train, X_test, y_test)"
   ]
  },
  {
   "cell_type": "code",
   "execution_count": null,
   "id": "904f4faf",
   "metadata": {},
   "outputs": [],
   "source": []
  },
  {
   "cell_type": "code",
   "execution_count": null,
   "id": "1fe1a831",
   "metadata": {},
   "outputs": [],
   "source": []
  },
  {
   "cell_type": "markdown",
   "id": "89982747",
   "metadata": {},
   "source": [
    "## Accuracy, Loss Visualization\n",
    "- 자유롭게 Accuracy나 Loss를 시각화하여 확인하고 결과를 확인해 보세요! "
   ]
  },
  {
   "cell_type": "code",
   "execution_count": null,
   "id": "da4b08fa",
   "metadata": {},
   "outputs": [],
   "source": []
  },
  {
   "cell_type": "code",
   "execution_count": 45,
   "id": "c691df61",
   "metadata": {},
   "outputs": [
    {
     "data": {
      "image/png": "[encoded data removed]",
      "text/plain": [
       "<Figure size 432x288 with 2 Axes>"
      ]
     },
     "metadata": {
      "needs_background": "light"
     },
     "output_type": "display_data"
    },
    {
     "name": "stdout",
     "output_type": "stream",
     "text": [
      "Best Validation Accuracy :  0.9507\n"
     ]
    }
   ],
   "source": [
    "fig = plt.figure()\n",
    "ax_acc = fig.add_subplot(111)\n",
    "\n",
    "ax_acc.plot(range(200), history['val_acc'], label='정확도(%)', color='darkred')\n",
    "plt.xlabel('epochs')\n",
    "plt.ylabel('Validation Accuracy(%)')\n",
    "ax_acc.grid(linestyle='--', color='lavender')\n",
    "ax_loss = ax_acc.twinx()\n",
    "ax_loss.plot(range(200), history['val_loss'], label='오차', color='darkblue')\n",
    "plt.ylabel('Validation Loss')\n",
    "ax_loss.yaxis.tick_right()\n",
    "ax_loss.grid(linestyle='--', color='lavender')\n",
    "\n",
    "\n",
    "plt.show()\n",
    "\n",
    "\n",
    "print(\"Best Validation Accuracy : \",max(history['val_acc']))"
   ]
  },
  {
   "cell_type": "code",
   "execution_count": null,
   "id": "239693a0",
   "metadata": {},
   "outputs": [],
   "source": []
  }
 ],
 "metadata": {
  "kernelspec": {
   "display_name": "Python 3",
   "language": "python",
   "name": "python3"
  },
  "language_info": {
   "codemirror_mode": {
    "name": "ipython",
    "version": 3
   },
   "file_extension": ".py",
   "mimetype": "text/x-python",
   "name": "python",
   "nbconvert_exporter": "python",
   "pygments_lexer": "ipython3",
   "version": "3.8.5"
  }
 },
 "nbformat": 4,
 "nbformat_minor": 5
}
